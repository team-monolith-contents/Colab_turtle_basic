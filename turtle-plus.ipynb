{
 "cells": [
  {
   "cell_type": "code",
   "execution_count": 1,
   "id": "a2994805-b0df-4afc-975f-577e26c51984",
   "metadata": {},
   "outputs": [
    {
     "name": "stdout",
     "output_type": "stream",
     "text": [
      "Collecting ColabTurtlePlus\n",
      "  Downloading ColabTurtlePlus-2.0.1-py3-none-any.whl (31 kB)\n",
      "Installing collected packages: ColabTurtlePlus\n",
      "Successfully installed ColabTurtlePlus-2.0.1\n"
     ]
    }
   ],
   "source": [
    "!pip3 install ColabTurtlePlus"
   ]
  },
  {
   "cell_type": "code",
   "execution_count": 1,
   "id": "ed6872bd-d818-4463-ac80-ce036cd0b415",
   "metadata": {},
   "outputs": [
    {
     "name": "stdout",
     "output_type": "stream",
     "text": [
      "Put clearscreen() as the first line in a cell (after the import command) to re-run turtle commands in the cell\n"
     ]
    }
   ],
   "source": [
    "from ColabTurtlePlus.Turtle import *\n",
    "# 만약 기존 ColabTurtle.Turtle 과 동일한 설정으로 사용하시려면\n",
    "# 아래 주석을 풀어주세요.\n",
    "# 기본 색, 좌표계 등이 변경됩니다.\n",
    "# oldDefaults()\n",
    "\n",
    "\n",
    "\n",
    "# oldDefaults를 적용시킨 후에, 다시 원래 설정을 쓰고 싶으면 다시 주석처리 하시고\n",
    "# 상단 커널 재시작(Restart the kernel) 버튼을 눌러주세요. (새고로침 아이콘)"
   ]
  },
  {
   "cell_type": "code",
   "execution_count": 11,
   "id": "381b20b0-afa2-4468-86d3-a9f17cdf2111",
   "metadata": {},
   "outputs": [
    {
     "data": {
      "text/html": [
       "\n",
       "      <svg width=\"800\" height=\"600\">  \n",
       "        <rect width=\"100%\" height=\"100%\" style=\"fill:white;stroke:;stroke-width:1\"/>\n",
       "        \n",
       "        \n",
       "        <line x1=\"400.0\" y1=\"300.0\" x2=\"500.0\" y2=\"300.0\" stroke-linecap=\"round\" style=\"stroke:black;stroke-width:1\" /><line x1=\"500.0\" y1=\"300.0\" x2=\"500.0\" y2=\"400.0\" stroke-linecap=\"round\" style=\"stroke:black;stroke-width:1\" /><line x1=\"500.0\" y1=\"400.0\" x2=\"400.0\" y2=\"400.0\" stroke-linecap=\"round\" style=\"stroke:black;stroke-width:1\" /><line x1=\"400.0\" y1=\"400.0\" x2=\"400.0\" y2=\"300.0\" stroke-linecap=\"round\" style=\"stroke:black;stroke-width:1\" />\n",
       "        \n",
       "        \n",
       "        <g id=\"classic\" visibility=\"visible\" transform=\"rotate(180.0,400.0,300.0) translate(400.0, 300.0)\">\n",
       "<polygon points=\"-5,-4.5 0,-2.5 5,-4.5 0,4.5\" transform=\"skewX(0) scale(1,1)\" style=\"stroke:black;fill:black;stroke-width:1\" />\n",
       "<animateTransform id = \"one\" attributeName=\"transform\" \n",
       "                      type=\"scale\"\n",
       "                      from=\"1 1\" to=\"1 1\"\n",
       "                      begin=\"0s\" dur=\"0.01s\"\n",
       "                      repeatCount=\"1\"\n",
       "                      additive=\"sum\"\n",
       "                      fill=\"freeze\"\n",
       "                /><animateTransform attributeName=\"transform\"\n",
       "                    type=\"rotate\"\n",
       "                    from=\"0 0 0\" to =\"90.0 0 0\"\n",
       "                    begin=\"one.end\" dur=\"0.25s\"\n",
       "                    repeatCount=\"1\"\n",
       "                    additive=\"sum\"\n",
       "                    fill=\"freeze\"\n",
       "                /></g>\n",
       "      </svg>\n",
       "    "
      ],
      "text/plain": [
       "<IPython.core.display.HTML object>"
      ]
     },
     "metadata": {},
     "output_type": "display_data"
    }
   ],
   "source": [
    "# 기존 ColabTurtle에서는 initializeTurtle()로 새 화면을 만들었지만\n",
    "# ColabTurtlePlus에서는 clearscreen()으로 새 화면을 만듭니다.\n",
    "# clearscreen은 코드 셀마다 불러주는것이 좋습니다.\n",
    "\n",
    "clearscreen()\n",
    "side_length = 100\n",
    "angle = 360/4\n",
    "\n",
    "for i in range(4):\n",
    "  forward(side_length)\n",
    "  right(angle)"
   ]
  },
  {
   "cell_type": "code",
   "execution_count": 12,
   "id": "dfa13910-1576-464d-94d4-b08bc2474c44",
   "metadata": {},
   "outputs": [
    {
     "data": {
      "text/html": [
       "\n",
       "      <svg width=\"800\" height=\"600\">  \n",
       "        <rect width=\"100%\" height=\"100%\" style=\"fill:white;stroke:;stroke-width:1\"/>\n",
       "        \n",
       "        \n",
       "        <path d=\"M 400.0 300.0 A 100 100 0 0 0 425.882 296.593\" stroke-linecap=\"round\" \n",
       "            fill=\"transparent\" fill-opacity=\"0\" style=\"stroke:black;stroke-width:1\"/><path d=\"M 425.882 296.593 A 100 100 0 0 0 450.0 286.603\" stroke-linecap=\"round\" \n",
       "            fill=\"transparent\" fill-opacity=\"0\" style=\"stroke:black;stroke-width:1\"/><path d=\"M 450.0 286.603 A 100 100 0 0 0 470.711 270.711\" stroke-linecap=\"round\" \n",
       "            fill=\"transparent\" fill-opacity=\"0\" style=\"stroke:black;stroke-width:1\"/><path d=\"M 470.711 270.711 A 100 100 0 0 0 486.603 250.0\" stroke-linecap=\"round\" \n",
       "            fill=\"transparent\" fill-opacity=\"0\" style=\"stroke:black;stroke-width:1\"/><path d=\"M 486.603 250.0 A 100 100 0 0 0 496.593 225.882\" stroke-linecap=\"round\" \n",
       "            fill=\"transparent\" fill-opacity=\"0\" style=\"stroke:black;stroke-width:1\"/><path d=\"M 496.593 225.882 A 100 100 0 0 0 500.0 200.0\" stroke-linecap=\"round\" \n",
       "            fill=\"transparent\" fill-opacity=\"0\" style=\"stroke:black;stroke-width:1\"/><path d=\"M 500.0 200.0 A 100 100 0 0 0 496.593 174.118\" stroke-linecap=\"round\" \n",
       "            fill=\"transparent\" fill-opacity=\"0\" style=\"stroke:black;stroke-width:1\"/><path d=\"M 496.593 174.118 A 100 100 0 0 0 486.603 150.0\" stroke-linecap=\"round\" \n",
       "            fill=\"transparent\" fill-opacity=\"0\" style=\"stroke:black;stroke-width:1\"/><path d=\"M 486.603 150.0 A 100 100 0 0 0 470.711 129.289\" stroke-linecap=\"round\" \n",
       "            fill=\"transparent\" fill-opacity=\"0\" style=\"stroke:black;stroke-width:1\"/><path d=\"M 470.711 129.289 A 100 100 0 0 0 450.0 113.397\" stroke-linecap=\"round\" \n",
       "            fill=\"transparent\" fill-opacity=\"0\" style=\"stroke:black;stroke-width:1\"/><path d=\"M 450.0 113.397 A 100 100 0 0 0 425.882 103.407\" stroke-linecap=\"round\" \n",
       "            fill=\"transparent\" fill-opacity=\"0\" style=\"stroke:black;stroke-width:1\"/><path d=\"M 425.882 103.407 A 100 100 0 0 0 400.0 100.0\" stroke-linecap=\"round\" \n",
       "            fill=\"transparent\" fill-opacity=\"0\" style=\"stroke:black;stroke-width:1\"/><path d=\"M 400.0 100.0 A 100 100 0 0 0 374.118 103.407\" stroke-linecap=\"round\" \n",
       "            fill=\"transparent\" fill-opacity=\"0\" style=\"stroke:black;stroke-width:1\"/><path d=\"M 374.118 103.407 A 100 100 0 0 0 350.0 113.397\" stroke-linecap=\"round\" \n",
       "            fill=\"transparent\" fill-opacity=\"0\" style=\"stroke:black;stroke-width:1\"/><path d=\"M 350.0 113.397 A 100 100 0 0 0 329.289 129.289\" stroke-linecap=\"round\" \n",
       "            fill=\"transparent\" fill-opacity=\"0\" style=\"stroke:black;stroke-width:1\"/><path d=\"M 329.289 129.289 A 100 100 0 0 0 313.397 150.0\" stroke-linecap=\"round\" \n",
       "            fill=\"transparent\" fill-opacity=\"0\" style=\"stroke:black;stroke-width:1\"/><path d=\"M 313.397 150.0 A 100 100 0 0 0 303.407 174.118\" stroke-linecap=\"round\" \n",
       "            fill=\"transparent\" fill-opacity=\"0\" style=\"stroke:black;stroke-width:1\"/><path d=\"M 303.407 174.118 A 100 100 0 0 0 300.0 200.0\" stroke-linecap=\"round\" \n",
       "            fill=\"transparent\" fill-opacity=\"0\" style=\"stroke:black;stroke-width:1\"/><path d=\"M 300.0 200.0 A 100 100 0 0 0 303.407 225.882\" stroke-linecap=\"round\" \n",
       "            fill=\"transparent\" fill-opacity=\"0\" style=\"stroke:black;stroke-width:1\"/><path d=\"M 303.407 225.882 A 100 100 0 0 0 313.397 250.0\" stroke-linecap=\"round\" \n",
       "            fill=\"transparent\" fill-opacity=\"0\" style=\"stroke:black;stroke-width:1\"/><path d=\"M 313.397 250.0 A 100 100 0 0 0 329.289 270.711\" stroke-linecap=\"round\" \n",
       "            fill=\"transparent\" fill-opacity=\"0\" style=\"stroke:black;stroke-width:1\"/><path d=\"M 329.289 270.711 A 100 100 0 0 0 350.0 286.603\" stroke-linecap=\"round\" \n",
       "            fill=\"transparent\" fill-opacity=\"0\" style=\"stroke:black;stroke-width:1\"/><path d=\"M 350.0 286.603 A 100 100 0 0 0 374.118 296.593\" stroke-linecap=\"round\" \n",
       "            fill=\"transparent\" fill-opacity=\"0\" style=\"stroke:black;stroke-width:1\"/><path d=\"M 374.118 296.593 A 100 100 0 0 0 400.0 300.0\" stroke-linecap=\"round\" \n",
       "            fill=\"transparent\" fill-opacity=\"0\" style=\"stroke:black;stroke-width:1\"/>\n",
       "        \n",
       "        \n",
       "        <g id=\"classic\" visibility=\"visible\" transform=\"rotate(-90.0,400.0,300.0) translate(400.0, 300.0)\">\n",
       "<polygon points=\"-5,-4.5 0,-2.5 5,-4.5 0,4.5\" transform=\"skewX(0) scale(1,1)\" style=\"stroke:black;fill:black;stroke-width:1\" />\n",
       "</g>\n",
       "      </svg>\n",
       "    "
      ],
      "text/plain": [
       "<IPython.core.display.HTML object>"
      ]
     },
     "metadata": {},
     "output_type": "display_data"
    }
   ],
   "source": [
    "clearscreen()\n",
    "circle(100)"
   ]
  },
  {
   "cell_type": "code",
   "execution_count": 13,
   "id": "c5f95614-bc5e-47ee-91f6-a6501f9490b0",
   "metadata": {},
   "outputs": [
    {
     "data": {
      "text/html": [
       "\n",
       "      <svg width=\"800\" height=\"600\">  \n",
       "        <rect width=\"100%\" height=\"100%\" style=\"fill:white;stroke:;stroke-width:1\"/>\n",
       "        \n",
       "        \n",
       "        <path fill-rule=\"evenodd\" fill-opacity=\"1\" d=\"M 400.0 300.0  A 100 100 0 0 0 400.0 100.0  A 100 100 0 0 0 400.0 300.0 \" stroke-linecap=\"round\" style=\"stroke:black;stroke-width:1\" fill=\"rgb(0,100,100)\" />\n",
       "        \n",
       "        \n",
       "        <g id=\"classic\" visibility=\"visible\" transform=\"rotate(-90.0,400.0,300.0) translate(400.0, 300.0)\">\n",
       "<polygon points=\"-5,-4.5 0,-2.5 5,-4.5 0,4.5\" transform=\"skewX(0) scale(1,1)\" style=\"stroke:black;fill:rgb(0,100,100);stroke-width:1\" />\n",
       "</g>\n",
       "      </svg>\n",
       "    "
      ],
      "text/plain": [
       "<IPython.core.display.HTML object>"
      ]
     },
     "metadata": {},
     "output_type": "display_data"
    }
   ],
   "source": [
    "clearscreen()\n",
    "fillcolor(0,100,100)\n",
    "begin_fill()\n",
    "circle(100)\n",
    "end_fill()"
   ]
  },
  {
   "cell_type": "markdown",
   "id": "fee8f08e-10a0-4855-9181-f4b64f1cd52e",
   "metadata": {},
   "source": [
    "터틀 모듈이 파이썬에 기본으로 포함되어 있긴 하지만 웹 브라우저에서 작동 하지 않습니다.<br>\n",
    "그래서 `ColabTurtle`이나 `ColabTurtlePlus` 같은 라이브라리가 파이썬을 대신하여 웹 환경을 지원하고 있습니다.<br>\n",
    "그 중에 소개드린 `ColabTurtlePlus`가 가장 많은 함수를 지원을 해주고 있습니다.<br>\n",
    "하지만 안타깝게도 요청주신 `onclick()`은 지원하고 있지 않은 것으로 보입니다.\n",
    "\n",
    "`ColabTurtlePlus`에 대한 자세한 정보는 다음 페이지에서 찾아보실 수 있습니다.\n",
    "- https://github.com/mathriddle/ColabTurtlePlus\n",
    "- https://larryriddle.agnesscott.org/ColabTurtlePlus/documentation2.html\n",
    "\n",
    "문서에서 이야기하길 파이썬 터틀에 비해 다음 기능이 부족하다고 합니다. 유저 이벤트에 요청주신 `onclick`이 포함됩니다.\n",
    "- 유저 이벤트\n",
    "- 특수 터틀 메소드\n",
    "- 특수 스크린 메소드\n"
   ]
  }
 ],
 "metadata": {
  "kernelspec": {
   "display_name": "Python 3 (ipykernel)",
   "language": "python",
   "name": "python3"
  },
  "language_info": {
   "codemirror_mode": {
    "name": "ipython",
    "version": 3
   },
   "file_extension": ".py",
   "mimetype": "text/x-python",
   "name": "python",
   "nbconvert_exporter": "python",
   "pygments_lexer": "ipython3",
   "version": "3.10.4"
  }
 },
 "nbformat": 4,
 "nbformat_minor": 5
}
